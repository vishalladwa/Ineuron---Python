{
 "cells": [
  {
   "cell_type": "markdown",
   "metadata": {},
   "source": [
    "## Ps Task 1"
   ]
  },
  {
   "cell_type": "markdown",
   "metadata": {},
   "source": [
    "### 1.1"
   ]
  },
  {
   "cell_type": "code",
   "execution_count": 1,
   "metadata": {},
   "outputs": [
    {
     "name": "stdout",
     "output_type": "stream",
     "text": [
      "The first output\n"
     ]
    }
   ],
   "source": [
    "print(\"The first output\")"
   ]
  },
  {
   "cell_type": "markdown",
   "metadata": {},
   "source": [
    "### 1.2"
   ]
  },
  {
   "cell_type": "code",
   "execution_count": 2,
   "metadata": {},
   "outputs": [],
   "source": [
    "\n",
    "# create a range of numbers from 2000 to 3601(Doesn't include 3601)\n",
    "numbers = list(range(2000, 3601))"
   ]
  },
  {
   "cell_type": "code",
   "execution_count": 3,
   "metadata": {},
   "outputs": [
    {
     "name": "stdout",
     "output_type": "stream",
     "text": [
      "[2002, 2009, 2016, 2023, 2037, 2044, 2051, 2058, 2072, 2079, 2086, 2093, 2107, 2114, 2121, 2128, 2142, 2149, 2156, 2163, 2177, 2184, 2191, 2198, 2212, 2219, 2226, 2233, 2247, 2254, 2261, 2268, 2282, 2289, 2296, 2303, 2317, 2324, 2331, 2338, 2352, 2359, 2366, 2373, 2387, 2394, 2401, 2408, 2422, 2429, 2436, 2443, 2457, 2464, 2471, 2478, 2492, 2499, 2506, 2513, 2527, 2534, 2541, 2548, 2562, 2569, 2576, 2583, 2597, 2604, 2611, 2618, 2632, 2639, 2646, 2653, 2667, 2674, 2681, 2688, 2702, 2709, 2716, 2723, 2737, 2744, 2751, 2758, 2772, 2779, 2786, 2793, 2807, 2814, 2821, 2828, 2842, 2849, 2856, 2863, 2877, 2884, 2891, 2898, 2912, 2919, 2926, 2933, 2947, 2954, 2961, 2968, 2982, 2989, 2996, 3003, 3017, 3024, 3031, 3038, 3052, 3059, 3066, 3073, 3087, 3094, 3101, 3108, 3122, 3129, 3136, 3143, 3157, 3164, 3171, 3178, 3192, 3199, 3206, 3213, 3227, 3234, 3241, 3248, 3262, 3269, 3276, 3283, 3297, 3304, 3311, 3318, 3332, 3339, 3346, 3353, 3367, 3374, 3381, 3388, 3402, 3409, 3416, 3423, 3437, 3444, 3451, 3458, 3472, 3479, 3486, 3493, 3507, 3514, 3521, 3528, 3542, 3549, 3556, 3563, 3577, 3584, 3591, 3598]\n"
     ]
    }
   ],
   "source": [
    "#\n",
    "lst = []\n",
    "for num in numbers:\n",
    "    if num % 7 == 0 and num % 5!= 0:\n",
    "        lst.append(num)\n",
    "print(lst)"
   ]
  },
  {
   "cell_type": "markdown",
   "metadata": {},
   "source": [
    "### 1.3"
   ]
  },
  {
   "cell_type": "code",
   "execution_count": 4,
   "metadata": {},
   "outputs": [
    {
     "name": "stdout",
     "output_type": "stream",
     "text": [
      "First Name: Vishal\n",
      "Last Name: ladwa\n",
      "ladwa Vishal\n"
     ]
    }
   ],
   "source": [
    "first_name = input(\"First Name: \")\n",
    "last_name = input(\"Last Name: \")\n",
    "\n",
    "print(last_name , first_name)"
   ]
  },
  {
   "cell_type": "markdown",
   "metadata": {},
   "source": [
    "### 1.4"
   ]
  },
  {
   "cell_type": "code",
   "execution_count": 5,
   "metadata": {},
   "outputs": [],
   "source": [
    "# Variables\n",
    "diameter = 12  # in centimeter\n",
    "radius = diameter / 2\n",
    "pi = 3.14159265"
   ]
  },
  {
   "cell_type": "code",
   "execution_count": 6,
   "metadata": {},
   "outputs": [
    {
     "name": "stdout",
     "output_type": "stream",
     "text": [
      "904.7786831999999\n"
     ]
    }
   ],
   "source": [
    "volume = (4/3) * pi * radius ** 3\n",
    "print(volume)"
   ]
  },
  {
   "cell_type": "markdown",
   "metadata": {},
   "source": [
    "## Ps Task 2"
   ]
  },
  {
   "cell_type": "markdown",
   "metadata": {},
   "source": [
    "### 2.1\n"
   ]
  },
  {
   "cell_type": "code",
   "execution_count": 7,
   "metadata": {},
   "outputs": [
    {
     "name": "stdout",
     "output_type": "stream",
     "text": [
      "Enter comma seperated Values: 23,32,41,52,67,8,99,69,22,11,42,20,11\n",
      "['23', '32', '41', '52', '67', '8', '99', '69', '22', '11', '42', '20', '11']\n"
     ]
    }
   ],
   "source": [
    "# If the output need to be in Str fromat\n",
    "\n",
    "sequence = input(\"Enter comma seperated Values: \")\n",
    "print((sequence.split(\",\")))"
   ]
  },
  {
   "cell_type": "code",
   "execution_count": 8,
   "metadata": {},
   "outputs": [
    {
     "name": "stdout",
     "output_type": "stream",
     "text": [
      "Enter comma seperated values: 23,32,41,52,67,8,99,69,22,11,42,20,11\n"
     ]
    },
    {
     "data": {
      "text/plain": [
       "[23, 32, 41, 52, 67, 8, 99, 69, 22, 11, 42, 20, 11]"
      ]
     },
     "execution_count": 8,
     "metadata": {},
     "output_type": "execute_result"
    }
   ],
   "source": [
    "## If the Output need to be in Int Format\n",
    "\n",
    "sequence2 = input(\"Enter comma seperated values: \")\n",
    "lst1 = sequence2.split(\",\")\n",
    "lst2 = []\n",
    "for num in lst1:\n",
    "    lst2.append(int(num))\n",
    "\n",
    "lst2    "
   ]
  },
  {
   "cell_type": "markdown",
   "metadata": {},
   "source": [
    "###  2.2"
   ]
  },
  {
   "cell_type": "code",
   "execution_count": 10,
   "metadata": {},
   "outputs": [
    {
     "name": "stdout",
     "output_type": "stream",
     "text": [
      "*\n",
      "**\n",
      "***\n",
      "****\n",
      "*****\n",
      "****\n",
      "***\n",
      "**\n",
      "*\n"
     ]
    }
   ],
   "source": [
    "# Can Modify the number of * you want\n",
    "\n",
    "number = 5\n",
    "for num in range(1,number + 1):\n",
    "    print(num * \"*\")\n",
    "    if num == number:\n",
    "        for a in range(num -1 ,0,-1):\n",
    "            print(a * \"*\")"
   ]
  },
  {
   "cell_type": "markdown",
   "metadata": {},
   "source": [
    "### 2.3"
   ]
  },
  {
   "cell_type": "code",
   "execution_count": 11,
   "metadata": {},
   "outputs": [
    {
     "name": "stdout",
     "output_type": "stream",
     "text": [
      "Input Word: AcadGild\n",
      "Output : dliGdacA\n"
     ]
    }
   ],
   "source": [
    "user_input = input(\"Input Word: \")\n",
    "print(\"Output :\",user_input[::-1])"
   ]
  },
  {
   "cell_type": "markdown",
   "metadata": {},
   "source": [
    "### 2.4 "
   ]
  },
  {
   "cell_type": "code",
   "execution_count": 12,
   "metadata": {},
   "outputs": [
    {
     "name": "stdout",
     "output_type": "stream",
     "text": [
      "\n",
      "WE, THE PEOPLE OF INDIA,\n",
      "    having solemnly resolved to constitute India into a SOVEREIGN,! \n",
      "        SOCIALIST, SECULAR, DEMOCRATIC REPUBLIC \n",
      "            and to secure to all its citizens\n",
      "\n"
     ]
    }
   ],
   "source": [
    "print(\"\"\"\n",
    "WE, THE PEOPLE OF INDIA,\n",
    "    having solemnly resolved to constitute India into a SOVEREIGN,! \n",
    "        SOCIALIST, SECULAR, DEMOCRATIC REPUBLIC \n",
    "            and to secure to all its citizens\n",
    "\"\"\")\n",
    "\n",
    "# Not sure whether this is the solution, but it does the job"
   ]
  }
 ],
 "metadata": {
  "kernelspec": {
   "display_name": "Python 3",
   "language": "python",
   "name": "python3"
  },
  "language_info": {
   "codemirror_mode": {
    "name": "ipython",
    "version": 3
   },
   "file_extension": ".py",
   "mimetype": "text/x-python",
   "name": "python",
   "nbconvert_exporter": "python",
   "pygments_lexer": "ipython3",
   "version": "3.7.7"
  }
 },
 "nbformat": 4,
 "nbformat_minor": 4
}
